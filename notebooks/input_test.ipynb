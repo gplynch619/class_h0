{
 "cells": [
  {
   "cell_type": "code",
   "execution_count": 26,
   "id": "539755b9",
   "metadata": {},
   "outputs": [],
   "source": [
    "%matplotlib inline\n",
    "import matplotlib\n",
    "import matplotlib.pyplot as plt\n",
    "import numpy as np\n",
    "from classy import Class\n",
    "from scipy.optimize import fsolve\n",
    "from scipy.interpolate import interp1d\n",
    "import math"
   ]
  },
  {
   "cell_type": "code",
   "execution_count": 27,
   "id": "f74e3305",
   "metadata": {},
   "outputs": [],
   "source": [
    "font = {'size'   : 16, 'family':'STIXGeneral'}\n",
    "axislabelfontsize='large'\n",
    "matplotlib.rc('font', **font)\n",
    "matplotlib.mathtext.rcParams['legend.fontsize']='medium'\n",
    "plt.rcParams[\"figure.figsize\"] = [8.0,6.0]"
   ]
  },
  {
   "cell_type": "code",
   "execution_count": 28,
   "id": "5697f574",
   "metadata": {},
   "outputs": [
    {
     "name": "stdout",
     "output_type": "stream",
     "text": [
      "dict_keys(['z', 'conf. time [Mpc]', 'x_e', \"kappa' [Mpc^-1]\", 'exp(-kappa)', 'g [Mpc^-1]', 'Tb [K]', 'dTb [K]', 'w_b', 'c_b^2', 'tau_d'])\n",
      "(28333,)\n"
     ]
    }
   ],
   "source": [
    "common_settings = {'output' : 'tCl',\n",
    "                   'reio_parametrization': \"reio_none\",\n",
    "                   # LambdaCDM parameters\n",
    "                   'h':0.6781,\n",
    "                   'omega_b':0.02238280,\n",
    "                   'omega_cdm':0.1201075,\n",
    "                   'A_s':2.100549e-09,\n",
    "                   'n_s':0.9660499,\n",
    "                   #'tau_reio':0.05430842,\n",
    "                   'thermodynamics_verbose':1\n",
    "                   }  \n",
    "##############\n",
    "#    \n",
    "# call CLASS\n",
    "#\n",
    "###############\n",
    "M = Class()\n",
    "M.set(common_settings)\n",
    "M.compute()\n",
    "derived = M.get_current_derived_parameters(['tau_rec','conformal_age'])\n",
    "thermo = M.get_thermodynamics()\n",
    "print (thermo.keys())\n",
    "print(thermo[\"z\"].shape)"
   ]
  },
  {
   "cell_type": "code",
   "execution_count": 29,
   "id": "452e204b",
   "metadata": {},
   "outputs": [
    {
     "data": {
      "image/png": "[encoded data removed]",
      "text/plain": [
       "<Figure size 576x432 with 1 Axes>"
      ]
     },
     "metadata": {
      "needs_background": "light"
     },
     "output_type": "display_data"
    }
   ],
   "source": [
    "def gaussian(x, mean, sigma, amp):\n",
    "    norm = 1./np.sqrt(2*np.pi*sigma**2)\n",
    "    return amp*norm*np.exp(-(x-mean)**2 / (2*sigma**2)) \n",
    "\n",
    "z = thermo['z']\n",
    "xe = thermo['x_e']\n",
    "\n",
    "center=1400\n",
    "spread =150\n",
    "amp = 100\n",
    "\n",
    "fig, ax = plt.subplots()\n",
    "\n",
    "ax.plot(z, xe, color=\"gray\", linestyle=\"dotted\")\n",
    "ax.plot(z, gaussian(z, center, spread, amp), color=\"lightgray\", linestyle=\"dashed\")\n",
    "\n",
    "ax.plot(z, xe+gaussian(z, center, spread, amp), color=\"black\")\n",
    "\n",
    "ax.set_xscale(\"log\")\n",
    "ax.set_yscale(\"log\")\n",
    "\n",
    "ax.set_ylim([1e-4, 2])\n",
    "\n",
    "filename = \"xe_out.txt\"\n",
    "\n",
    "with open(filename, \"w\") as f:\n",
    "    for i, xez in enumerate(xe):\n",
    "        f.write(\"{0} {1}\\n\".format(z[i], xez+gaussian(z[i], center, spread, amp)))"
   ]
  },
  {
   "cell_type": "code",
   "execution_count": 30,
   "id": "4248af6c",
   "metadata": {},
   "outputs": [
    {
     "data": {
      "text/plain": [
       "(0.0001, 2)"
      ]
     },
     "execution_count": 30,
     "metadata": {},
     "output_type": "execute_result"
    },
    {
     "data": {
      "image/png": "[encoded data removed]",
      "text/plain": [
       "<Figure size 576x432 with 1 Axes>"
      ]
     },
     "metadata": {
      "needs_background": "light"
     },
     "output_type": "display_data"
    }
   ],
   "source": [
    "## Rerun with the above as input\n",
    "\n",
    "common_settings = {'output' : 'tCl',\n",
    "                   'use_external_xe': 'yes',\n",
    "                   'xe_file': \"xe_out.txt\",\n",
    "                   # LambdaCDM parameters\n",
    "                   'h':0.6781,\n",
    "                   'omega_b':0.02238280,\n",
    "                   'omega_cdm':0.1201075,\n",
    "                   'A_s':2.100549e-09,\n",
    "                   'n_s':0.9660499,\n",
    "                   'tau_reio':0.05430842,\n",
    "                   'thermodynamics_verbose':1\n",
    "                   }  \n",
    "##############\n",
    "#    \n",
    "# call CLASS\n",
    "#\n",
    "###############\n",
    "M = Class()\n",
    "M.set(common_settings)\n",
    "M.compute()\n",
    "derived = M.get_current_derived_parameters(['tau_rec','conformal_age'])\n",
    "thermo = M.get_thermodynamics()\n",
    "\n",
    "z = thermo['z']\n",
    "xe = thermo['x_e']\n",
    "\n",
    "fig, ax = plt.subplots()\n",
    "\n",
    "ax.plot(z, xe, color=\"black\")\n",
    "\n",
    "ax.set_xscale(\"log\")\n",
    "ax.set_yscale(\"log\")\n",
    "\n",
    "ax.set_ylim([1e-4, 2])"
   ]
  }
 ],
 "metadata": {
  "kernelspec": {
   "display_name": "Python 3 (ipykernel)",
   "language": "python",
   "name": "python3"
  },
  "language_info": {
   "codemirror_mode": {
    "name": "ipython",
    "version": 3
   },
   "file_extension": ".py",
   "mimetype": "text/x-python",
   "name": "python",
   "nbconvert_exporter": "python",
   "pygments_lexer": "ipython3",
   "version": "3.9.7"
  }
 },
 "nbformat": 4,
 "nbformat_minor": 5
}
